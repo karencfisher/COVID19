{
  "nbformat": 4,
  "nbformat_minor": 0,
  "metadata": {
    "colab": {
      "name": "Unet.ipynb",
      "provenance": [],
      "authorship_tag": "ABX9TyO4YfcYjNj43cSRgDMovqP2",
      "include_colab_link": true
    },
    "kernelspec": {
      "name": "python3",
      "display_name": "Python 3"
    },
    "language_info": {
      "name": "python"
    }
  },
  "cells": [
    {
      "cell_type": "markdown",
      "metadata": {
        "id": "view-in-github",
        "colab_type": "text"
      },
      "source": [
        "<a href=\"https://colab.research.google.com/github/karencfisher/COVID19/blob/main/notebooks/Unet.ipynb\" target=\"_parent\"><img src=\"https://colab.research.google.com/assets/colab-badge.svg\" alt=\"Open In Colab\"/></a>"
      ]
    },
    {
      "cell_type": "code",
      "metadata": {
        "colab": {
          "base_uri": "https://localhost:8080/"
        },
        "id": "O6W7WgI3Envv",
        "outputId": "f621348f-d3b1-4e59-ad47-22c5adeff6dd"
      },
      "source": [
        "from google.colab import drive\n",
        "drive.mount('/content/drive')\n",
        "\n",
        "BASE_PATH = '/content/drive/MyDrive/COVID-19_Radiography_Dataset'\n",
        " \n",
        "\n",
        "\n",
        "!wget https://raw.githubusercontent.com/karencfisher/COVID19/main/tools/util.py"
      ],
      "execution_count": 2,
      "outputs": [
        {
          "output_type": "stream",
          "name": "stdout",
          "text": [
            "Mounted at /content/drive\n",
            "--2021-09-01 21:41:24--  https://raw.githubusercontent.com/karencfisher/COVID19/main/tools/util.py\n",
            "Resolving raw.githubusercontent.com (raw.githubusercontent.com)... 185.199.108.133, 185.199.109.133, 185.199.110.133, ...\n",
            "Connecting to raw.githubusercontent.com (raw.githubusercontent.com)|185.199.108.133|:443... connected.\n",
            "HTTP request sent, awaiting response... 200 OK\n",
            "Length: 5910 (5.8K) [text/plain]\n",
            "Saving to: ‘util.py’\n",
            "\n",
            "util.py             100%[===================>]   5.77K  --.-KB/s    in 0s      \n",
            "\n",
            "2021-09-01 21:41:24 (49.1 MB/s) - ‘util.py’ saved [5910/5910]\n",
            "\n"
          ]
        }
      ]
    },
    {
      "cell_type": "code",
      "metadata": {
        "id": "lRLUxcZRFTt5"
      },
      "source": [
        "import os\n",
        "import random\n",
        "import shutil\n",
        "import matplotlib.pyplot as plt\n",
        "import seaborn as sns\n",
        "import numpy as np\n",
        "import cv2\n",
        "import pandas as pd\n",
        "\n",
        "from sklearn.metrics import confusion_matrix, roc_curve, roc_auc_score, classification_report\n",
        "from sklearn.utils import class_weight\n",
        "\n",
        "from tensorflow.keras.models import Model\n",
        "from tensorflow.keras.layers import Conv2D, MaxPool2D, BatchNormalization, Input\n",
        "from tensorflow.keras.layers import Conv2DTranspose, Concatenate, Activation\n",
        "from tensorflow.keras.preprocessing.image import ImageDataGenerator, load_img, img_to_array\n",
        "from tensorflow.keras.callbacks import EarlyStopping, ModelCheckpoint, ReduceLROnPlateau\n",
        "from tensorflow.keras import backend as K\n",
        "\n",
        "import util"
      ],
      "execution_count": 8,
      "outputs": []
    },
    {
      "cell_type": "markdown",
      "metadata": {
        "id": "ddYUw9wHNRyc"
      },
      "source": [
        "### Define blocks"
      ]
    },
    {
      "cell_type": "code",
      "metadata": {
        "id": "F9mFvnStFTSR"
      },
      "source": [
        "def conv_block(input, num_filters):\n",
        "  x = Conv2D(num_filters, 3, padding='same')(input)\n",
        "  x = BatchNormalization()(x)\n",
        "  x = Activation('relu')(x)\n",
        "\n",
        "  x = Conv2D(num_filters, 3, padding='same')(x)\n",
        "  x = BatchNormalization()(x)\n",
        "  x = Activation('relu')(x)\n",
        "\n",
        "  return x\n",
        "\n",
        "def encoder_block(input, num_filters):\n",
        "  x = conv_block(input, num_filters)\n",
        "  p = MaxPool2D((2, 2))(x)\n",
        "  return x, p\n",
        "\n",
        "def decoder_block(input, skip_features, num_filters):\n",
        "  x = Conv2DTranspose(num_filters, (2, 2), strides=2, padding='same')(input)\n",
        "  x = Concatenate()([x, skip_features])\n",
        "  x = conv_block(x, num_filters)\n",
        "  return x"
      ],
      "execution_count": 12,
      "outputs": []
    },
    {
      "cell_type": "markdown",
      "metadata": {
        "id": "POT9rdDAUJSI"
      },
      "source": [
        "### Build U-Net model"
      ]
    },
    {
      "cell_type": "code",
      "metadata": {
        "id": "Ad_mD_24Nles"
      },
      "source": [
        "def build_unet(input_shape, num_layers, min_num_filters=64):\n",
        "  inputs = Input(input_shape)\n",
        "  skip_features = []\n",
        "\n",
        "  s, x = encoder_block(inputs, min_num_filters)\n",
        "  skip_features.append(s)\n",
        "\n",
        "  for i in range(1, num_layers):\n",
        "    num_filters = min_num_filters * 2 ** i\n",
        "    s, x = encoder_block(x, num_filters)\n",
        "    skip_features.append(s)\n",
        "\n",
        "  num_filters = min_num_filters * 2 ** num_layers\n",
        "  x = conv_block(x, num_filters)\n",
        "\n",
        "  for i in range(num_layers):\n",
        "    num_filters /= 2\n",
        "    s = skip_features.pop()\n",
        "    x = decoder_block(x, s, num_filters)\n",
        "\n",
        "  x = Conv2D(1, 1, padding='same')(x)\n",
        "  outputs = Activation('sigmoid')(x)\n",
        "\n",
        "  model = Model(inputs, outputs, name='U-Net')\n",
        "  return model\n",
        "   "
      ],
      "execution_count": 25,
      "outputs": []
    },
    {
      "cell_type": "code",
      "metadata": {
        "colab": {
          "base_uri": "https://localhost:8080/"
        },
        "id": "JQ-TxlTUUN5x",
        "outputId": "59a8b158-29d8-43ec-ae0c-ab80fa96e706"
      },
      "source": [
        "input_shape = (224, 224, 3)\n",
        "model = build_unet(input_shape, 4)\n",
        "model.summary()"
      ],
      "execution_count": 26,
      "outputs": [
        {
          "output_type": "stream",
          "name": "stdout",
          "text": [
            "Model: \"U-Net\"\n",
            "__________________________________________________________________________________________________\n",
            "Layer (type)                    Output Shape         Param #     Connected to                     \n",
            "==================================================================================================\n",
            "input_8 (InputLayer)            [(None, 224, 224, 3) 0                                            \n",
            "__________________________________________________________________________________________________\n",
            "conv2d_133 (Conv2D)             (None, 224, 224, 64) 1792        input_8[0][0]                    \n",
            "__________________________________________________________________________________________________\n",
            "batch_normalization_126 (BatchN (None, 224, 224, 64) 256         conv2d_133[0][0]                 \n",
            "__________________________________________________________________________________________________\n",
            "activation_133 (Activation)     (None, 224, 224, 64) 0           batch_normalization_126[0][0]    \n",
            "__________________________________________________________________________________________________\n",
            "conv2d_134 (Conv2D)             (None, 224, 224, 64) 36928       activation_133[0][0]             \n",
            "__________________________________________________________________________________________________\n",
            "batch_normalization_127 (BatchN (None, 224, 224, 64) 256         conv2d_134[0][0]                 \n",
            "__________________________________________________________________________________________________\n",
            "activation_134 (Activation)     (None, 224, 224, 64) 0           batch_normalization_127[0][0]    \n",
            "__________________________________________________________________________________________________\n",
            "max_pooling2d_28 (MaxPooling2D) (None, 112, 112, 64) 0           activation_134[0][0]             \n",
            "__________________________________________________________________________________________________\n",
            "conv2d_135 (Conv2D)             (None, 112, 112, 128 73856       max_pooling2d_28[0][0]           \n",
            "__________________________________________________________________________________________________\n",
            "batch_normalization_128 (BatchN (None, 112, 112, 128 512         conv2d_135[0][0]                 \n",
            "__________________________________________________________________________________________________\n",
            "activation_135 (Activation)     (None, 112, 112, 128 0           batch_normalization_128[0][0]    \n",
            "__________________________________________________________________________________________________\n",
            "conv2d_136 (Conv2D)             (None, 112, 112, 128 147584      activation_135[0][0]             \n",
            "__________________________________________________________________________________________________\n",
            "batch_normalization_129 (BatchN (None, 112, 112, 128 512         conv2d_136[0][0]                 \n",
            "__________________________________________________________________________________________________\n",
            "activation_136 (Activation)     (None, 112, 112, 128 0           batch_normalization_129[0][0]    \n",
            "__________________________________________________________________________________________________\n",
            "max_pooling2d_29 (MaxPooling2D) (None, 56, 56, 128)  0           activation_136[0][0]             \n",
            "__________________________________________________________________________________________________\n",
            "conv2d_137 (Conv2D)             (None, 56, 56, 256)  295168      max_pooling2d_29[0][0]           \n",
            "__________________________________________________________________________________________________\n",
            "batch_normalization_130 (BatchN (None, 56, 56, 256)  1024        conv2d_137[0][0]                 \n",
            "__________________________________________________________________________________________________\n",
            "activation_137 (Activation)     (None, 56, 56, 256)  0           batch_normalization_130[0][0]    \n",
            "__________________________________________________________________________________________________\n",
            "conv2d_138 (Conv2D)             (None, 56, 56, 256)  590080      activation_137[0][0]             \n",
            "__________________________________________________________________________________________________\n",
            "batch_normalization_131 (BatchN (None, 56, 56, 256)  1024        conv2d_138[0][0]                 \n",
            "__________________________________________________________________________________________________\n",
            "activation_138 (Activation)     (None, 56, 56, 256)  0           batch_normalization_131[0][0]    \n",
            "__________________________________________________________________________________________________\n",
            "max_pooling2d_30 (MaxPooling2D) (None, 28, 28, 256)  0           activation_138[0][0]             \n",
            "__________________________________________________________________________________________________\n",
            "conv2d_139 (Conv2D)             (None, 28, 28, 512)  1180160     max_pooling2d_30[0][0]           \n",
            "__________________________________________________________________________________________________\n",
            "batch_normalization_132 (BatchN (None, 28, 28, 512)  2048        conv2d_139[0][0]                 \n",
            "__________________________________________________________________________________________________\n",
            "activation_139 (Activation)     (None, 28, 28, 512)  0           batch_normalization_132[0][0]    \n",
            "__________________________________________________________________________________________________\n",
            "conv2d_140 (Conv2D)             (None, 28, 28, 512)  2359808     activation_139[0][0]             \n",
            "__________________________________________________________________________________________________\n",
            "batch_normalization_133 (BatchN (None, 28, 28, 512)  2048        conv2d_140[0][0]                 \n",
            "__________________________________________________________________________________________________\n",
            "activation_140 (Activation)     (None, 28, 28, 512)  0           batch_normalization_133[0][0]    \n",
            "__________________________________________________________________________________________________\n",
            "max_pooling2d_31 (MaxPooling2D) (None, 14, 14, 512)  0           activation_140[0][0]             \n",
            "__________________________________________________________________________________________________\n",
            "conv2d_141 (Conv2D)             (None, 14, 14, 1024) 4719616     max_pooling2d_31[0][0]           \n",
            "__________________________________________________________________________________________________\n",
            "batch_normalization_134 (BatchN (None, 14, 14, 1024) 4096        conv2d_141[0][0]                 \n",
            "__________________________________________________________________________________________________\n",
            "activation_141 (Activation)     (None, 14, 14, 1024) 0           batch_normalization_134[0][0]    \n",
            "__________________________________________________________________________________________________\n",
            "conv2d_142 (Conv2D)             (None, 14, 14, 1024) 9438208     activation_141[0][0]             \n",
            "__________________________________________________________________________________________________\n",
            "batch_normalization_135 (BatchN (None, 14, 14, 1024) 4096        conv2d_142[0][0]                 \n",
            "__________________________________________________________________________________________________\n",
            "activation_142 (Activation)     (None, 14, 14, 1024) 0           batch_normalization_135[0][0]    \n",
            "__________________________________________________________________________________________________\n",
            "conv2d_transpose_28 (Conv2DTran (None, 28, 28, 512)  2097664     activation_142[0][0]             \n",
            "__________________________________________________________________________________________________\n",
            "concatenate_28 (Concatenate)    (None, 28, 28, 1024) 0           conv2d_transpose_28[0][0]        \n",
            "                                                                 activation_140[0][0]             \n",
            "__________________________________________________________________________________________________\n",
            "conv2d_143 (Conv2D)             (None, 28, 28, 512)  4719104     concatenate_28[0][0]             \n",
            "__________________________________________________________________________________________________\n",
            "batch_normalization_136 (BatchN (None, 28, 28, 512)  2048        conv2d_143[0][0]                 \n",
            "__________________________________________________________________________________________________\n",
            "activation_143 (Activation)     (None, 28, 28, 512)  0           batch_normalization_136[0][0]    \n",
            "__________________________________________________________________________________________________\n",
            "conv2d_144 (Conv2D)             (None, 28, 28, 512)  2359808     activation_143[0][0]             \n",
            "__________________________________________________________________________________________________\n",
            "batch_normalization_137 (BatchN (None, 28, 28, 512)  2048        conv2d_144[0][0]                 \n",
            "__________________________________________________________________________________________________\n",
            "activation_144 (Activation)     (None, 28, 28, 512)  0           batch_normalization_137[0][0]    \n",
            "__________________________________________________________________________________________________\n",
            "conv2d_transpose_29 (Conv2DTran (None, 56, 56, 256)  524544      activation_144[0][0]             \n",
            "__________________________________________________________________________________________________\n",
            "concatenate_29 (Concatenate)    (None, 56, 56, 512)  0           conv2d_transpose_29[0][0]        \n",
            "                                                                 activation_138[0][0]             \n",
            "__________________________________________________________________________________________________\n",
            "conv2d_145 (Conv2D)             (None, 56, 56, 256)  1179904     concatenate_29[0][0]             \n",
            "__________________________________________________________________________________________________\n",
            "batch_normalization_138 (BatchN (None, 56, 56, 256)  1024        conv2d_145[0][0]                 \n",
            "__________________________________________________________________________________________________\n",
            "activation_145 (Activation)     (None, 56, 56, 256)  0           batch_normalization_138[0][0]    \n",
            "__________________________________________________________________________________________________\n",
            "conv2d_146 (Conv2D)             (None, 56, 56, 256)  590080      activation_145[0][0]             \n",
            "__________________________________________________________________________________________________\n",
            "batch_normalization_139 (BatchN (None, 56, 56, 256)  1024        conv2d_146[0][0]                 \n",
            "__________________________________________________________________________________________________\n",
            "activation_146 (Activation)     (None, 56, 56, 256)  0           batch_normalization_139[0][0]    \n",
            "__________________________________________________________________________________________________\n",
            "conv2d_transpose_30 (Conv2DTran (None, 112, 112, 128 131200      activation_146[0][0]             \n",
            "__________________________________________________________________________________________________\n",
            "concatenate_30 (Concatenate)    (None, 112, 112, 256 0           conv2d_transpose_30[0][0]        \n",
            "                                                                 activation_136[0][0]             \n",
            "__________________________________________________________________________________________________\n",
            "conv2d_147 (Conv2D)             (None, 112, 112, 128 295040      concatenate_30[0][0]             \n",
            "__________________________________________________________________________________________________\n",
            "batch_normalization_140 (BatchN (None, 112, 112, 128 512         conv2d_147[0][0]                 \n",
            "__________________________________________________________________________________________________\n",
            "activation_147 (Activation)     (None, 112, 112, 128 0           batch_normalization_140[0][0]    \n",
            "__________________________________________________________________________________________________\n",
            "conv2d_148 (Conv2D)             (None, 112, 112, 128 147584      activation_147[0][0]             \n",
            "__________________________________________________________________________________________________\n",
            "batch_normalization_141 (BatchN (None, 112, 112, 128 512         conv2d_148[0][0]                 \n",
            "__________________________________________________________________________________________________\n",
            "activation_148 (Activation)     (None, 112, 112, 128 0           batch_normalization_141[0][0]    \n",
            "__________________________________________________________________________________________________\n",
            "conv2d_transpose_31 (Conv2DTran (None, 224, 224, 64) 32832       activation_148[0][0]             \n",
            "__________________________________________________________________________________________________\n",
            "concatenate_31 (Concatenate)    (None, 224, 224, 128 0           conv2d_transpose_31[0][0]        \n",
            "                                                                 activation_134[0][0]             \n",
            "__________________________________________________________________________________________________\n",
            "conv2d_149 (Conv2D)             (None, 224, 224, 64) 73792       concatenate_31[0][0]             \n",
            "__________________________________________________________________________________________________\n",
            "batch_normalization_142 (BatchN (None, 224, 224, 64) 256         conv2d_149[0][0]                 \n",
            "__________________________________________________________________________________________________\n",
            "activation_149 (Activation)     (None, 224, 224, 64) 0           batch_normalization_142[0][0]    \n",
            "__________________________________________________________________________________________________\n",
            "conv2d_150 (Conv2D)             (None, 224, 224, 64) 36928       activation_149[0][0]             \n",
            "__________________________________________________________________________________________________\n",
            "batch_normalization_143 (BatchN (None, 224, 224, 64) 256         conv2d_150[0][0]                 \n",
            "__________________________________________________________________________________________________\n",
            "activation_150 (Activation)     (None, 224, 224, 64) 0           batch_normalization_143[0][0]    \n",
            "__________________________________________________________________________________________________\n",
            "conv2d_151 (Conv2D)             (None, 224, 224, 1)  65          activation_150[0][0]             \n",
            "__________________________________________________________________________________________________\n",
            "activation_151 (Activation)     (None, 224, 224, 1)  0           conv2d_151[0][0]                 \n",
            "==================================================================================================\n",
            "Total params: 31,055,297\n",
            "Trainable params: 31,043,521\n",
            "Non-trainable params: 11,776\n",
            "__________________________________________________________________________________________________\n"
          ]
        }
      ]
    },
    {
      "cell_type": "code",
      "metadata": {
        "id": "iU7tR7FuYLxS"
      },
      "source": [
        ""
      ],
      "execution_count": null,
      "outputs": []
    }
  ]
}